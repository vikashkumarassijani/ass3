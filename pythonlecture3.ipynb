{
  "nbformat": 4,
  "nbformat_minor": 0,
  "metadata": {
    "colab": {
      "provenance": [],
      "authorship_tag": "ABX9TyM+q7ivno4Yyt/4o5rUX5BV",
      "include_colab_link": true
    },
    "kernelspec": {
      "name": "python3",
      "display_name": "Python 3"
    },
    "language_info": {
      "name": "python"
    }
  },
  "cells": [
    {
      "cell_type": "markdown",
      "metadata": {
        "id": "view-in-github",
        "colab_type": "text"
      },
      "source": [
        "<a href=\"https://colab.research.google.com/github/vikashkumarassijani/ass3/blob/main/pythonlecture3.ipynb\" target=\"_parent\"><img src=\"https://colab.research.google.com/assets/colab-badge.svg\" alt=\"Open In Colab\"/></a>"
      ]
    },
    {
      "cell_type": "code",
      "execution_count": 19,
      "metadata": {
        "colab": {
          "base_uri": "https://localhost:8080/"
        },
        "id": "xkzE45mQzIgQ",
        "outputId": "46b99baa-5950-492d-bf0c-37f4dd248374"
      },
      "outputs": [
        {
          "output_type": "stream",
          "name": "stdout",
          "text": [
            "i am  \t 'Muslim' \n",
            " Alhamdulillah  \\ thanks to Allah \"Feeling Greatful!\"\n"
          ]
        }
      ],
      "source": [
        "string = 'i am  \\t \\'Muslim\\' \\n Alhamdulillah  \\\\ thanks to Allah \\\"Feeling Greatful!\\\"'\n",
        "print(string)\n"
      ]
    },
    {
      "cell_type": "code",
      "source": [
        "a = float(20)\n",
        "b = int('500')\n",
        "c = str('8.9')\n",
        "print(type(a))\n",
        "print(type(b))\n",
        "print(type(c))"
      ],
      "metadata": {
        "colab": {
          "base_uri": "https://localhost:8080/"
        },
        "id": "PhoFf3zi5n21",
        "outputId": "e7261cf7-7f34-48e2-a435-fd408cc1e966"
      },
      "execution_count": 24,
      "outputs": [
        {
          "output_type": "stream",
          "name": "stdout",
          "text": [
            "<class 'float'>\n",
            "<class 'int'>\n",
            "<class 'str'>\n"
          ]
        }
      ]
    },
    {
      "cell_type": "code",
      "source": [
        "import random\n",
        "random.randrange(1,100)"
      ],
      "metadata": {
        "colab": {
          "base_uri": "https://localhost:8080/"
        },
        "id": "4n8ndQLc-df0",
        "outputId": "1f01082b-36bf-431d-d578-efda4f7018cf"
      },
      "execution_count": 28,
      "outputs": [
        {
          "output_type": "execute_result",
          "data": {
            "text/plain": [
              "97"
            ]
          },
          "metadata": {},
          "execution_count": 28
        }
      ]
    },
    {
      "cell_type": "code",
      "source": [
        "import random\n",
        "random.randrange(1,6)"
      ],
      "metadata": {
        "colab": {
          "base_uri": "https://localhost:8080/"
        },
        "id": "mWja2ZfR-6Ml",
        "outputId": "5bcd0239-413a-47cb-f972-a4b6694d1e25"
      },
      "execution_count": 35,
      "outputs": [
        {
          "output_type": "execute_result",
          "data": {
            "text/plain": [
              "4"
            ]
          },
          "metadata": {},
          "execution_count": 35
        }
      ]
    },
    {
      "cell_type": "code",
      "source": [
        "poem = \"\"\"\n",
        "Roses are red,\n",
        "Violets are blue,\n",
        "Sugar is sweet,\n",
        "And so are you.\n",
        "\"\"\"\n",
        "\n",
        "print(poem)\n"
      ],
      "metadata": {
        "colab": {
          "base_uri": "https://localhost:8080/"
        },
        "id": "jZ0mXxHz_B49",
        "outputId": "ec078f8b-cfdf-4b04-cc7c-26d51a2df7b2"
      },
      "execution_count": 37,
      "outputs": [
        {
          "output_type": "stream",
          "name": "stdout",
          "text": [
            "\n",
            "Roses are red,\n",
            "Violets are blue,\n",
            "Sugar is sweet,\n",
            "And so are you.\n",
            "\n"
          ]
        }
      ]
    },
    {
      "cell_type": "code",
      "source": [
        "\n",
        "string = \"Hello\"\n",
        "\n",
        "\n",
        "string = \"J\"\n",
        "\n",
        "# conversion\n",
        "string = \"J\" + string[1:]\n",
        "\n",
        "print(string)\n"
      ],
      "metadata": {
        "colab": {
          "base_uri": "https://localhost:8080/"
        },
        "id": "kUBvo_qiAVhH",
        "outputId": "1a3e2f81-a7dd-413f-9460-6354b6ae4ef8"
      },
      "execution_count": 41,
      "outputs": [
        {
          "output_type": "stream",
          "name": "stdout",
          "text": [
            "J\n"
          ]
        }
      ]
    },
    {
      "cell_type": "code",
      "source": [
        "\n",
        "string = \"Hello, World!\"\n",
        "\n",
        "\n",
        "first_char = string[0]\n",
        "print(\"First character:\", first_char)\n",
        "\n",
        "\n",
        "slice_2_to_5 = string[2:5]\n",
        "print(\"Slice from index 2 to 5:\", slice_2_to_5)\n",
        "\n",
        "\n",
        "slice_start_to_3 = string[:3]\n",
        "print(\"Slice from start to index 3:\", slice_start_to_3)\n",
        "\n",
        "\n",
        "slice_3_to_end = string[3:]\n",
        "print(\"Slice from index 3 to end:\", slice_3_to_end)\n"
      ],
      "metadata": {
        "colab": {
          "base_uri": "https://localhost:8080/"
        },
        "id": "PZwIvvoLBCEb",
        "outputId": "3764e320-f962-4484-9b75-aa714eb45c5a"
      },
      "execution_count": 43,
      "outputs": [
        {
          "output_type": "stream",
          "name": "stdout",
          "text": [
            "First character: H\n",
            "Slice from index 2 to 5: llo\n",
            "Slice from start to index 3: Hel\n",
            "Slice from index 3 to end: lo, World!\n"
          ]
        }
      ]
    }
  ]
}